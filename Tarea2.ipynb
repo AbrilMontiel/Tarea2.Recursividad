{
  "nbformat": 4,
  "nbformat_minor": 0,
  "metadata": {
    "colab": {
      "name": "Tarea2.ipynb",
      "provenance": [],
      "authorship_tag": "ABX9TyPcq76HWxGGWf1hcPL5OJ5l",
      "include_colab_link": true
    },
    "kernelspec": {
      "name": "python3",
      "display_name": "Python 3"
    },
    "language_info": {
      "name": "python"
    }
  },
  "cells": [
    {
      "cell_type": "markdown",
      "metadata": {
        "id": "view-in-github",
        "colab_type": "text"
      },
      "source": [
        "<a href=\"https://colab.research.google.com/github/AbrilMontiel/Tarea2.Recursividad/blob/master/Tarea2.ipynb\" target=\"_parent\"><img src=\"https://colab.research.google.com/assets/colab-badge.svg\" alt=\"Open In Colab\"/></a>"
      ]
    },
    {
      "cell_type": "code",
      "metadata": {
        "id": "13RrsiuyKp9G",
        "colab": {
          "base_uri": "https://localhost:8080/"
        },
        "outputId": "a9bd4b51-f2a6-4bb2-d013-81d425e31a60"
      },
      "source": [
        "print ('1. Serie de Fibonacci\\n')\n",
        "def printRev( n ):\n",
        "  if n > 1:\n",
        "     return printRev( n - 1 ) +  printRev( n - 2 ) \n",
        "  return n\n",
        "for i in range(15):\n",
        "   print (printRev(i))\n",
        "        "
      ],
      "execution_count": null,
      "outputs": [
        {
          "output_type": "stream",
          "name": "stdout",
          "text": [
            "1. Serie de Fibonacci\n",
            "\n",
            "0\n",
            "1\n",
            "1\n",
            "2\n",
            "3\n",
            "5\n",
            "8\n",
            "13\n",
            "21\n",
            "34\n",
            "55\n",
            "89\n",
            "144\n",
            "233\n",
            "377\n"
          ]
        }
      ]
    },
    {
      "cell_type": "code",
      "metadata": {
        "colab": {
          "base_uri": "https://localhost:8080/"
        },
        "id": "tJxtRBRgyKjo",
        "outputId": "621a7cd2-442a-4d3e-8fae-63e9b82dd55c"
      },
      "source": [
        "print ('2. Suma de una lista\\n ')\n",
        "lista = [ 2, 4, 6, 8]\n",
        "print (f'Lista = {lista}\\n')\n",
        "\n",
        "def suma( lista ):\n",
        "  if lista == []:\n",
        "       return 0\n",
        "  else:   \n",
        "       return lista [ 0 ] + suma( lista[1:] )     \n",
        "print (f'La suma es: {suma(lista)}')"
      ],
      "execution_count": 1,
      "outputs": [
        {
          "output_type": "stream",
          "name": "stdout",
          "text": [
            "2. Suma de una lista\n",
            " \n",
            "Lista = [2, 4, 6, 8]\n",
            "\n",
            "La suma es: 20\n"
          ]
        }
      ]
    },
    {
      "cell_type": "code",
      "metadata": {
        "id": "R9Mz-0Uk1sAH"
      },
      "source": [
        "def printRev( n ):\n",
        "  if n > -1:\n",
        "    print (  n  )\n",
        "    printRev( n - 1 )\n",
        "    if n == 0:\n",
        "      print ( 'BOOOMMMM!!' )"
      ],
      "execution_count": null,
      "outputs": []
    },
    {
      "cell_type": "code",
      "metadata": {
        "colab": {
          "base_uri": "https://localhost:8080/"
        },
        "id": "t5lcRejz8Gsa",
        "outputId": "0601835a-697e-4ace-a0eb-786986bb84e3"
      },
      "source": [
        "print ('3. Cuenta regresiva\\n ')\n",
        "printRev( 3 )"
      ],
      "execution_count": null,
      "outputs": [
        {
          "output_type": "stream",
          "name": "stdout",
          "text": [
            "3. Cuenta regresiva\n",
            " \n",
            "3\n",
            "2\n",
            "1\n",
            "0\n",
            "BOOOMMMM!!\n"
          ]
        }
      ]
    },
    {
      "cell_type": "code",
      "metadata": {
        "colab": {
          "base_uri": "https://localhost:8080/"
        },
        "id": "gpqWKE2D_eU2",
        "outputId": "3acb7809-a345-4535-fca9-774645cc3ac2"
      },
      "source": [
        "print ('4. Eliminar un elemento de una lista\\n')\n",
        "listaimpar = [3, 5, 7, 9, 11]\n",
        "print(f'lista = {listaimpar}')\n",
        "listaimpar.pop(2)       \n",
        "print (f'La nueva lista es: {listaimpar}')\n",
        "\n",
        "listapar = [1, 4, 7, 10]\n",
        "print(f'\\nlista = {listapar}')\n",
        "listapar.pop(1)       \n",
        "print (f'La nueva lista es: {listapar}')\n"
      ],
      "execution_count": null,
      "outputs": [
        {
          "output_type": "stream",
          "name": "stdout",
          "text": [
            "4. Eliminar un elemento de una lista\n",
            "\n",
            "lista = [3, 5, 7, 9, 11]\n",
            "La nueva lista es: [3, 5, 9, 11]\n",
            "\n",
            "lista = [1, 4, 7, 10]\n",
            "La nueva lista es: [1, 7, 10]\n"
          ]
        }
      ]
    }
  ]
}